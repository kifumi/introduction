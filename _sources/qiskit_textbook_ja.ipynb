{
 "cells": [
  {
   "cell_type": "markdown",
   "metadata": {},
   "source": [
    "# Qiskit Textbook 日本語版\n",
    "\n",
    "## Qiskit を使った量子計算の学習\n",
    "\n",
    "0. 前提条件</br>\n",
    "0.1 [Qiskitテキストブックで作業するための環境設定ガイド](https://ja.learn.qiskit.org/course/ch-prerequisites/environment-setup-guide-to-work-with-qiskit-textbook)</br>\n",
    "0.2 [Python 及び Jupyter notebook 入門](https://ja.learn.qiskit.org/course/ch-prerequisites/introduction-to-python-and-jupyter-notebooks)\n",
    "\n",
    "1. 量子状態と量子ビット</br>\n",
    "1.1 [はじめに](https://ja.learn.qiskit.org/course/ch-states/introduction) </br>\n",
    "1.2 [計算の原始](https://ja.learn.qiskit.org/course/ch-states/the-atoms-of-computation)</br>\n",
    "1.3 [量子ビット状態を表現する](https://ja.learn.qiskit.org/course/ch-states/representing-qubit-states)</br>\n",
    "1.4 [単一量子ビットゲート](https://ja.learn.qiskit.org/course/ch-states/single-qubit-gates)</br>\n",
    "1.5 [量子コンピューターの場合](https://ja.learn.qiskit.org/course/ch-states/the-case-for-quantum-computers)</br>\n",
    "\n",
    "2. 複数量子ビットともつれ状態\n",
    "\n",
    "3. 量子アルゴリズム\n",
    "\n",
    "4. 量子アプリケーション\n",
    "\n",
    "5. エラー訂正\n",
    "\n",
    "6. 量子ハードウェア\n",
    "\n",
    "7. 練習問題\n"
   ]
  },
  {
   "cell_type": "markdown",
   "metadata": {},
   "source": []
  }
 ],
 "metadata": {
  "kernelspec": {
   "display_name": "Python 3",
   "language": "python",
   "name": "python3"
  },
  "language_info": {
   "codemirror_mode": {
    "name": "ipython",
    "version": 3
   },
   "file_extension": ".py",
   "mimetype": "text/x-python",
   "name": "python",
   "nbconvert_exporter": "python",
   "pygments_lexer": "ipython3",
   "version": "3.8.0"
  },
  "widgets": {
   "application/vnd.jupyter.widget-state+json": {
    "state": {},
    "version_major": 2,
    "version_minor": 0
   }
  }
 },
 "nbformat": 4,
 "nbformat_minor": 4
}
