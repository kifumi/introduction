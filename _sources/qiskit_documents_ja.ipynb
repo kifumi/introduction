{
 "cells": [
  {
   "cell_type": "markdown",
   "metadata": {},
   "source": [
    "# Qiskit Documents 日本語版リンク集\n",
    "\n",
    "\n",
    "[量子コンピューティングの概要](https://qiskit.org/documentation/locale/ja_JP/qc_intro.html)\n",
    "\n",
    "[はじめに](https://qiskit.org/documentation/locale/ja_JP/getting_started.html)\n",
    "\n",
    "[Qiskit 入門](https://qiskit.org/documentation/locale/ja_JP/intro_tutorial1.html)\n",
    "\n",
    "[チュートリアル](https://qiskit.org/documentation/locale/ja_JP/tutorials.html)\n",
    "    \n",
    "    - 量子回路\n",
    "\n",
    "    - 高度な回路\n",
    "\n",
    "    - 古典シミュレーター\n",
    "\n",
    "    - アルゴリズム\n",
    "\n",
    "    - 演算子\n",
    "    \n",
    "    - Qiskit サンプルアルゴリズム\n",
    "\n",
    "[Qiskit Finance](https://qiskit.org/ecosystem/finance/locale/ja_JP/index.html)\n",
    "\n",
    "[Qiskit Nature](https://qiskit.org/ecosystem/nature/locale/ja_JP/index.html)\n",
    "\n",
    "[Qiskit Optimization](https://qiskit.org/ecosystem/optimization/locale/ja_JP/index.html)\n",
    "\n",
    "[Qiskit Machine Learning](https://qiskit.org/ecosystem/machine-learning/locale/ja_JP/index.html)"
   ]
  },
  {
   "cell_type": "markdown",
   "metadata": {},
   "source": []
  }
 ],
 "metadata": {
  "kernelspec": {
   "display_name": "Python 3",
   "language": "python",
   "name": "python3"
  },
  "language_info": {
   "codemirror_mode": {
    "name": "ipython",
    "version": 3
   },
   "file_extension": ".py",
   "mimetype": "text/x-python",
   "name": "python",
   "nbconvert_exporter": "python",
   "pygments_lexer": "ipython3",
   "version": "3.8.0"
  },
  "widgets": {
   "application/vnd.jupyter.widget-state+json": {
    "state": {},
    "version_major": 2,
    "version_minor": 0
   }
  }
 },
 "nbformat": 4,
 "nbformat_minor": 4
}
